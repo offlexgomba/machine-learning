{
 "cells": [
  {
   "cell_type": "code",
   "execution_count": 1,
   "id": "c1665b4f",
   "metadata": {},
   "outputs": [],
   "source": [
    "import numpy as np\n",
    "import pandas as pd"
   ]
  },
  {
   "cell_type": "code",
   "execution_count": 2,
   "id": "a06363d6",
   "metadata": {},
   "outputs": [],
   "source": [
    "data = {  \n",
    "    \"distance_km\": [\"50km\", \"100km\", \"150km\", \"200km\", \"250km\", \"300km\", \"350km\", \"400km\", \"450km\", \"500km\"],  \n",
    "    \"fuel_liters\": [\"2.5lt\", \"5lt\", \"7.5lt\", \"10lt\", \"12.5lt\", \"\", \"17.5lt\", \"\", \"22.5lt\", \"25lt\"]  \n",
    "} "
   ]
  },
  {
   "cell_type": "code",
   "execution_count": 3,
   "id": "b211735d",
   "metadata": {},
   "outputs": [],
   "source": [
    "df = pd.DataFrame(data)"
   ]
  },
  {
   "cell_type": "code",
   "execution_count": 4,
   "id": "867bf543",
   "metadata": {},
   "outputs": [
    {
     "name": "stdout",
     "output_type": "stream",
     "text": [
      "Cleaned Data:\n",
      "   distance_km  fuel_liters\n",
      "0         50.0          2.5\n",
      "1        100.0          5.0\n",
      "2        150.0          7.5\n",
      "3        200.0         10.0\n",
      "4        250.0         12.5\n",
      "6        350.0         17.5\n",
      "8        450.0         22.5\n",
      "9        500.0         25.0\n"
     ]
    }
   ],
   "source": [
    "df[\"distance_km\"] = df[\"distance_km\"].str.replace(\"km\", \"\").astype(float)  \n",
    "df[\"fuel_liters\"] = df[\"fuel_liters\"].str.replace(\"lt\", \"\").replace(\"\", np.nan).astype(float)   \n",
    "df = df.dropna()   \n",
    "print(\"Cleaned Data:\")  \n",
    "print(df)  "
   ]
  },
  {
   "cell_type": "code",
   "execution_count": 5,
   "id": "f4689110",
   "metadata": {},
   "outputs": [],
   "source": [
    "from sklearn.linear_model import LinearRegression"
   ]
  },
  {
   "cell_type": "code",
   "execution_count": 9,
   "id": "c7d7672e",
   "metadata": {},
   "outputs": [
    {
     "name": "stdout",
     "output_type": "stream",
     "text": [
      "[[ 50.]\n",
      " [100.]\n",
      " [150.]\n",
      " [200.]\n",
      " [250.]\n",
      " [350.]\n",
      " [450.]\n",
      " [500.]]\n"
     ]
    }
   ],
   "source": [
    "print(X)"
   ]
  },
  {
   "cell_type": "code",
   "execution_count": 11,
   "id": "aea42fdb",
   "metadata": {},
   "outputs": [
    {
     "name": "stdout",
     "output_type": "stream",
     "text": [
      "8\n"
     ]
    }
   ],
   "source": [
    "print(len(X))"
   ]
  },
  {
   "cell_type": "code",
   "execution_count": 35,
   "id": "ca135710",
   "metadata": {},
   "outputs": [
    {
     "name": "stdout",
     "output_type": "stream",
     "text": [
      "\n",
      "Predicted fuel consumption for 300 km: 15.00 liters\n"
     ]
    }
   ],
   "source": [
    "X = df[[\"distance_km\"]].values  \n",
    "y = df[\"fuel_liters\"].values\n",
    "\n",
    "model = LinearRegression()  \n",
    "model.fit(X, y)  \n",
    "  \n",
    "new_distance = pd.DataFrame({\"distance_km\": [300]})  \n",
    "predicted_fuel = model.predict(new_distance)[0]  \n",
    "print(f\"\\nPredicted fuel consumption for 300 km: {predicted_fuel:.2f} liters\")  "
   ]
  },
  {
   "cell_type": "code",
   "execution_count": 12,
   "id": "c81c2b63",
   "metadata": {},
   "outputs": [],
   "source": [
    "def compute_loss(weight,bias,features,actual_value):\n",
    "    predictions = weight*features +bias\n",
    "    return np.mean((actual_value-predictions)**2)"
   ]
  },
  {
   "cell_type": "code",
   "execution_count": 13,
   "id": "b7ed310f",
   "metadata": {},
   "outputs": [],
   "source": [
    "def gradient_descent_step(weight, bias,features,actual_value, learning_rate=0.0001):\n",
    "    m = len(features)\n",
    "    predictions = weight*features +bias\n",
    "    loss =  actual_value - predictions\n",
    "\n",
    "    ##compute gradients\n",
    "    gradient_weight = (2/m) * np.sum(loss * features)\n",
    "    gradient_bias = (2/m) * np.sum(loss)\n",
    "\n",
    "    weight -= learning_rate * gradient_weight\n",
    "    bias -= learning_rate * gradient_bias\n",
    "    return weight, bias\n"
   ]
  },
  {
   "cell_type": "code",
   "execution_count": 31,
   "id": "bcf8b7b2",
   "metadata": {},
   "outputs": [],
   "source": [
    "np.random.seed(42)\n",
    "weight = np.random.rand()\n",
    "bias = np.random.rand()\n",
    "\n",
    "\n",
    "loss_history =[]\n",
    "iterations = 70\n",
    "learning_rate = 0.0001\n",
    "\n",
    "for _ in range(iterations):\n",
    "    weight,bias = gradient_descent_step(weight,bias,X,y, learning_rate)\n",
    "    loss = compute_loss(weight, bias, X,y)\n",
    "    loss_history.append(loss)"
   ]
  },
  {
   "cell_type": "code",
   "execution_count": 32,
   "id": "a68d5449",
   "metadata": {},
   "outputs": [
    {
     "name": "stdout",
     "output_type": "stream",
     "text": [
      "loss hoistory is  [212527012.911026, 4376479368657.5537, 9.01230389855162e+16, 1.8558666617577464e+21, 3.8217098590931615e+25, 7.869889873045408e+29, 1.6206140418142313e+34, 3.337263818037552e+38, 6.872290072665704e+42, 1.4151824194298131e+47, 2.9142269303053066e+51, 6.001147615116969e+55, 1.23579163736062e+60, 2.544814873614263e+64, 5.240432565800387e+68, 1.07914071712801e+73, 2.2222300787982605e+77, 4.576146970210123e+81, 9.423471175535457e+85, 1.9405366474073286e+90, 3.996067276893754e+94, 8.228936929790014e+98, 1.6945511249524999e+103, 3.4895194112893253e+107, 7.185823751470656e+111, 1.4797471199084432e+116, 3.0471823615618125e+120, 6.274937264407679e+124, 1.2921720133635464e+129, 2.660916662212418e+133, 5.479516202188181e+137, 1.1283742266876728e+142, 2.323614619379269e+146, 4.7849239832801736e+150, 9.853397088664433e+154, 2.029069521818061e+159, 4.1783793825861387e+163, 8.604364748023844e+167, 1.7718614309075172e+172, 3.6487213435003186e+176, 7.513661740295339e+180, 1.5472574480960248e+185, 3.186203602764956e+189, 6.561217986550839e+193, 1.3511246246059175e+198, 2.782315349007552e+202, 5.729507523098329e+206, 1.1798539108426292e+211, 2.4296246148881383e+215, 5.0032260053742336e+219, 1.0302937460981195e+224, 2.1216415211079347e+228, 4.3690090919570685e+232, 8.996920665294825e+236, 1.8526988558256924e+241, 3.8151865266729566e+245, 7.856456642987366e+249, 1.6178477920178337e+254, 3.331567393645946e+258, 6.860559660288795e+262, 1.4127668238724468e+267, 2.9092525937608766e+271, 5.990904168534287e+275, 1.2336822465513119e+280, 2.540471091909073e+284, 5.231487594854711e+288, 1.077298716064205e+293, 2.218436921794547e+297, 4.568335878057387e+301, 9.407386114843579e+305]\n"
     ]
    }
   ],
   "source": [
    "print(f\"loss hoistory is  {loss_history}\")"
   ]
  },
  {
   "cell_type": "code",
   "execution_count": 33,
   "id": "62033523",
   "metadata": {},
   "outputs": [],
   "source": [
    "import matplotlib.pyplot as plt"
   ]
  },
  {
   "cell_type": "code",
   "execution_count": 36,
   "id": "e284a339",
   "metadata": {},
   "outputs": [
    {
     "data": {
      "image/png": "[encoded data removed]",
      "text/plain": [
       "<Figure size 864x288 with 2 Axes>"
      ]
     },
     "metadata": {
      "needs_background": "light"
     },
     "output_type": "display_data"
    }
   ],
   "source": [
    "plt.figure(figsize=(12,4))\n",
    "plt.subplot(1,2,1)\n",
    "plt.plot(range(iterations), loss_history, color='orange')\n",
    "plt.title('Loss Curve')\n",
    "plt.xlabel(\"Iterations\")\n",
    "plt.ylabel(\"MSE LOSS\")\n",
    "\n",
    "plt.subplot(1, 2, 2)\n",
    "plt.scatter(X, y, label=\"Data\")\n",
    "plt.plot(X, model.predict(X), 'r--', label=\"Scikit-Learn\")\n",
    "plt.plot(X, weight * X + bias, 'g-', label=\"Manual GD\")\n",
    "plt.title(\"\")\n",
    "plt.xlabel(\"Distance (km)\")\n",
    "plt.ylabel(\"Fuel (liters)\")\n",
    "plt.legend()\n",
    "\n",
    "plt.tight_layout()\n",
    "\n",
    "\n",
    "\n",
    "\n",
    "plt.show()"
   ]
  },
  {
   "cell_type": "code",
   "execution_count": null,
   "id": "08c6b02a",
   "metadata": {},
   "outputs": [],
   "source": []
  }
 ],
 "metadata": {
  "kernelspec": {
   "display_name": "Python 3 (ipykernel)",
   "language": "python",
   "name": "python3"
  },
  "language_info": {
   "codemirror_mode": {
    "name": "ipython",
    "version": 3
   },
   "file_extension": ".py",
   "mimetype": "text/x-python",
   "name": "python",
   "nbconvert_exporter": "python",
   "pygments_lexer": "ipython3",
   "version": "3.13.2"
  }
 },
 "nbformat": 4,
 "nbformat_minor": 5
}
