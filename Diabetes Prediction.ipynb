{
 "cells": [
  {
   "cell_type": "code",
   "execution_count": 21,
   "id": "efc6d3fd-7eb1-4b1f-8c07-0d2ea0aaf243",
   "metadata": {},
   "outputs": [],
   "source": [
    "import pandas as pd\n",
    "import numpy as np\n",
    "import matplotlib.pyplot as plt"
   ]
  },
  {
   "cell_type": "code",
   "execution_count": 22,
   "id": "1cd78f49-4a54-4547-811a-7560bc3c42d1",
   "metadata": {},
   "outputs": [],
   "source": [
    "df =pd.read_csv(\"https://raw.githubusercontent.com/jbrownlee/Datasets/master/pima-indians-diabetes.data.csv\", header=None)"
   ]
  },
  {
   "cell_type": "code",
   "execution_count": 23,
   "id": "a691d285-ecbb-419f-97e3-cc01595e1de0",
   "metadata": {},
   "outputs": [
    {
     "name": "stdout",
     "output_type": "stream",
     "text": [
      "      0    1   2   3    4     5      6   7  8\n",
      "0     6  148  72  35    0  33.6  0.627  50  1\n",
      "1     1   85  66  29    0  26.6  0.351  31  0\n",
      "2     8  183  64   0    0  23.3  0.672  32  1\n",
      "3     1   89  66  23   94  28.1  0.167  21  0\n",
      "4     0  137  40  35  168  43.1  2.288  33  1\n",
      "..   ..  ...  ..  ..  ...   ...    ...  .. ..\n",
      "763  10  101  76  48  180  32.9  0.171  63  0\n",
      "764   2  122  70  27    0  36.8  0.340  27  0\n",
      "765   5  121  72  23  112  26.2  0.245  30  0\n",
      "766   1  126  60   0    0  30.1  0.349  47  1\n",
      "767   1   93  70  31    0  30.4  0.315  23  0\n",
      "\n",
      "[768 rows x 9 columns]\n"
     ]
    }
   ],
   "source": [
    "print(df)"
   ]
  },
  {
   "cell_type": "code",
   "execution_count": 24,
   "id": "ce21cef5-dc27-409e-ad06-23b2219e57d2",
   "metadata": {},
   "outputs": [],
   "source": [
    "x = df[[0,1,2,3,4,5,6,7]].values\n",
    "y = df[8].values"
   ]
  },
  {
   "cell_type": "code",
   "execution_count": 25,
   "id": "9c657854-01ec-4353-8e46-b03386c654d1",
   "metadata": {},
   "outputs": [],
   "source": [
    "class diabetes:\n",
    "    def __init__(self,l2_lambda=0.1,epochs=2000,ir=0.01):\n",
    "        self.epochs = epochs\n",
    "        self.ir = ir\n",
    "        self.weight = None\n",
    "        self.bias = None\n",
    "        self.losses = []\n",
    "        self.l2_lambda = l2_lambda\n",
    "    def fit(self,x,y):\n",
    "        n_samples,n_features = x.shape\n",
    "        np.random.seed(42)\n",
    "        self.weight = np.random.randn(n_features)\n",
    "        self.bias = np.random.randn()\n",
    "        x =(x-x.mean())/ x.std()\n",
    "        for i in range(2000):\n",
    "            linear_model_output = np.dot(x, self.weight) + self.bias\n",
    "            y_predicted = self._sigmoid(linear_model_output)\n",
    "            error = y_predicted - y\n",
    "\n",
    "            gradient_weight = (1/n_samples)*np.dot(x.T, error)\n",
    "            gradient_bias = (1/n_samples)*np.sum(error)\n",
    "\n",
    "            gradient_weight += 2*self.l2_lambda*self.weight\n",
    "\n",
    "            self.weight -= self.ir * gradient_weight\n",
    "            self.bias -= self.ir * gradient_bias\n",
    "\n",
    "            loss =  -np.mean(y*np.log(y_predicted)+(1-y)*np.log(1-y_predicted))\n",
    "            penalty = self.l2_lambda*np.sum(self.weight**2)\n",
    "            loss += penalty\n",
    "            self.losses.append(loss)\n",
    "\n",
    "    def predict(self, x):\n",
    "        x =(x-x.mean())/ x.std()\n",
    "        linear_model_output = np.dot(X,self.weight) + self.bias\n",
    "        y_predicted = self._sigmoid(linear_model_output)\n",
    "        return y_predicted\n",
    "    def _sigmoid(self,z):\n",
    "        z = np.clip(z,-500,500)\n",
    "        return 1/(1+np.exp(-z))"
   ]
  },
  {
   "cell_type": "code",
   "execution_count": 26,
   "id": "c5412111-f87a-4796-8e4c-db7e9f6339c6",
   "metadata": {},
   "outputs": [],
   "source": [
    "model = diabetes()\n",
    "model.fit(x,y)"
   ]
  },
  {
   "cell_type": "code",
   "execution_count": 31,
   "id": "8eac2a15-643f-4934-a8d3-448876db3ff6",
   "metadata": {},
   "outputs": [
    {
     "data": {
      "image/png": "[encoded data removed]",
      "text/plain": [
       "<Figure size 640x480 with 1 Axes>"
      ]
     },
     "metadata": {},
     "output_type": "display_data"
    }
   ],
   "source": [
    "plt.plot(model.losses, color='skyblue')\n",
    "plt.xlabel(\"Epochs\")\n",
    "plt.ylabel(\"Loss (Cross-Entropy)\")\n",
    "plt.title(f\"Loss curve for Logistic Regression after {model.epochs} Epochs\")\n",
    "plt.show()"
   ]
  },
  {
   "cell_type": "code",
   "execution_count": null,
   "id": "56052255-9e9b-4985-a3ac-a97796bfa042",
   "metadata": {},
   "outputs": [],
   "source": []
  }
 ],
 "metadata": {
  "kernelspec": {
   "display_name": "Python 3 (ipykernel)",
   "language": "python",
   "name": "python3"
  },
  "language_info": {
   "codemirror_mode": {
    "name": "ipython",
    "version": 3
   },
   "file_extension": ".py",
   "mimetype": "text/x-python",
   "name": "python",
   "nbconvert_exporter": "python",
   "pygments_lexer": "ipython3",
   "version": "3.13.2"
  }
 },
 "nbformat": 4,
 "nbformat_minor": 5
}
